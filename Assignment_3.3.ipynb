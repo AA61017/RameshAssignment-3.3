{
 "cells": [
  {
   "cell_type": "code",
   "execution_count": 18,
   "metadata": {},
   "outputs": [
    {
     "name": "stdout",
     "output_type": "stream",
     "text": [
      "Accepting a list of words seperated by coma as input from the user : India is a great and powerful powerfal nation\n",
      "The longest word is powerful with length 8\n"
     ]
    }
   ],
   "source": [
    "# Implement a function longestWord() that takes a list of words and returns the longest one\n",
    "def longestWord(words_list):\n",
    "    longest = 0\n",
    "    for word in words_list.split():\n",
    "        if len(word) > longest:\n",
    "            longest = len(word)\n",
    "            longest_word = word\n",
    "    return(longest_word) \n",
    "\n",
    "# Take a list of words as input\n",
    "wordsList = input(\"Accepting a list of words seperated by space as input from the user : \")\n",
    "longest_word = longestWord(wordsList)\n",
    "print(\"The longest word is\", longest_word, \"with length\", len(longest_word))"
   ]
  }
 ],
 "metadata": {
  "kernelspec": {
   "display_name": "Python 3",
   "language": "python",
   "name": "python3"
  },
  "language_info": {
   "codemirror_mode": {
    "name": "ipython",
    "version": 3
   },
   "file_extension": ".py",
   "mimetype": "text/x-python",
   "name": "python",
   "nbconvert_exporter": "python",
   "pygments_lexer": "ipython3",
   "version": "3.6.4"
  }
 },
 "nbformat": 4,
 "nbformat_minor": 2
}
